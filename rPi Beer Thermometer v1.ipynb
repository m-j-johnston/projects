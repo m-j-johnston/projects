{
 "cells": [
  {
   "cell_type": "markdown",
   "metadata": {},
   "source": [
    "# Is my beer brewing at the right temperature?"
   ]
  },
  {
   "cell_type": "markdown",
   "metadata": {},
   "source": [
    "## Problem Statement:\n",
    "During lockdown 2.0 I've been brewing my own beer, but the beer must be kept between 20 and 25 degrees celcius in order for the fermentation to proceed optimally. Too warm and the yeast risks dying, too cold and no fermentation will happen at all!\n",
    "\n",
    "Therefore I needed a way to find out the temperature of the beer, and ideally one that had a level of automation involved in it. Enter my trusty raspberryPi!\n",
    "\n",
    "\n",
    "## Methodology:\n",
    "I set up a DS18B20 One wire digital thermometer to read the ambient temperature in both degrees celcius and farenheit and then connected to the output of this using a dataplicity account. This allowed me to control the rPi and the thermometer remotely. From here the temperature was displayed on a webpage, \n",
    "\n",
    "## Version 1:\n",
    "- Connects to the rPi\n",
    "- Records readings at a fixed sampling rate (1 every 10 seconds)\n",
    "- Saves these results after a specified number of iterations\n",
    "\n",
    "## Future Versions:\n",
    "- Can run at a specified time \n",
    "- Can allow a notification to be given if the temperature drops below 20 oC for a certain amount of time"
   ]
  },
  {
   "cell_type": "code",
   "execution_count": 1,
   "metadata": {},
   "outputs": [],
   "source": [
    "# Imports packages\n",
    "import requests\n",
    "from bs4 import BeautifulSoup\n",
    "import numpy as np\n",
    "import pandas as pd\n",
    "import matplotlib.pyplot as plt\n",
    "from datetime import datetime\n",
    "import time\n",
    "from apscheduler.schedulers.blocking import BlockingScheduler"
   ]
  },
  {
   "cell_type": "code",
   "execution_count": 2,
   "metadata": {},
   "outputs": [
    {
     "name": "stdout",
     "output_type": "stream",
     "text": [
      "                        Time  Temperature / oC\n",
      "0 2020-11-12 12:16:42.849571              21.4\n",
      "1 2020-11-12 12:16:53.201163              24.8\n",
      "2 2020-11-12 12:17:02.599700              24.9\n",
      "3 2020-11-12 12:17:12.350258              25.7\n",
      "4 2020-11-12 12:17:22.374831              25.9\n",
      "5 2020-11-12 12:17:32.540413              26.9\n",
      "6 2020-11-12 12:17:42.752997              26.8\n",
      "7 2020-11-12 12:17:52.371547              26.0\n",
      "8 2020-11-12 12:18:02.333117              25.3\n",
      "9 2020-11-12 12:18:12.652707              24.6\n"
     ]
    }
   ],
   "source": [
    "#Initialises data storage\n",
    "data=[]\n",
    "#Parameters\n",
    "timebetween=10\n",
    "number_of_iterations=10\n",
    "\n",
    "for i in range (0,number_of_iterations):\n",
    "    #Starts timing loop\n",
    "    start = time.time()\n",
    "    now=datetime.now()\n",
    "    #Gets data from dataplicity connection\n",
    "    response = requests.get(\"https://censual-mosquito-5256.dataplicity.io/\")\n",
    "    content = response.content\n",
    "    #Parses html response\n",
    "    parser = BeautifulSoup(content, 'html.parser')\n",
    "    tempraw=parser.text\n",
    "    #Cleans result\n",
    "    tempclean=tempraw.replace(\"\\n\",'').replace(\"'\",'').replace('\"','').replace(':','').replace(',','')\n",
    "    lst=tempclean.split(\" \")\n",
    "    #Stores current time and the temperature in degrees celcius \n",
    "    data.append([now, float(lst[3])])\n",
    "    #Ends the timing loop\n",
    "    end = time.time()\n",
    "    #Calculates the time taken and uses it to keep ~10 seconds between iterations\n",
    "    time.sleep(timebetween-(end-start))\n",
    "\n",
    "#Stores the data in a dataframe\n",
    "tempdata=pd.DataFrame(data)\n",
    "#Ammends column names\n",
    "tempdata.columns=['Time', 'Temperature / oC']\n",
    "print(tempdata)\n",
    "#Saves the data to a csv file\n",
    "tempdata.to_csv ('tempdata_12Nov.csv', index = False, header=True)"
   ]
  }
 ],
 "metadata": {
  "kernelspec": {
   "display_name": "Python 3",
   "language": "python",
   "name": "python3"
  },
  "language_info": {
   "codemirror_mode": {
    "name": "ipython",
    "version": 3
   },
   "file_extension": ".py",
   "mimetype": "text/x-python",
   "name": "python",
   "nbconvert_exporter": "python",
   "pygments_lexer": "ipython3",
   "version": "3.8.3"
  }
 },
 "nbformat": 4,
 "nbformat_minor": 4
}
