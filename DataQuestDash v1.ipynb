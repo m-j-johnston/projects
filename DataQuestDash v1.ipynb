{
 "cells": [
  {
   "cell_type": "markdown",
   "metadata": {},
   "source": [
    "# Is Max ahead of Daniel yet?"
   ]
  },
  {
   "cell_type": "markdown",
   "metadata": {},
   "source": [
    "## Problem Statement:\n",
    "Finding out if Max is ahead of Daniel in the DataQuest training.\n",
    "\n",
    "## Methodology:\n",
    "Required selenium to load the page as the training scores are hidden from the page source within a javascript code. The code loads the page, copies all the text, and then compares the Data Analyst in Python scores.\n",
    "\n",
    "## Notes:\n",
    "Requries selenium to be setup as well as chromedriver installed and linked.\n"
   ]
  },
  {
   "cell_type": "code",
   "execution_count": 56,
   "metadata": {},
   "outputs": [],
   "source": [
    "from selenium import webdriver\n",
    "from selenium.webdriver.common.keys import Keys\n",
    "from selenium.webdriver.support.ui import Select\n",
    "from selenium.webdriver.support.ui import WebDriverWait\n",
    "import pyperclip"
   ]
  },
  {
   "cell_type": "code",
   "execution_count": 95,
   "metadata": {},
   "outputs": [
    {
     "name": "stdout",
     "output_type": "stream",
     "text": [
      "Max is ahead of Daniel\n"
     ]
    }
   ],
   "source": [
    "#Daniel\n",
    "driver = webdriver.Chrome(executable_path=r'C:/Users/Matt/Desktop/Python/chromedriver.exe')\n",
    "driver.get(\"https://app.dataquest.io/profile/daniel.gadish\")\n",
    "wait = WebDriverWait(driver, 20)\n",
    "\n",
    "element=driver.find_element_by_tag_name('body')\n",
    "element.send_keys(Keys.CONTROL,'a')\n",
    "element.send_keys(Keys.CONTROL,'c')\n",
    "driver.quit()\n",
    "alltext=pyperclip.paste()\n",
    "paragraphs=[x for x in alltext.split('\\n') if len(x)>100]\n",
    "daniel_score = alltext.split('Data Analyst in Python ')[1].split('%')[0]\n",
    "\n",
    "#Max\n",
    "driver = webdriver.Chrome(executable_path=r'C:/Users/Matt/Desktop/Python/chromedriver.exe')\n",
    "driver.get(\"https://app.dataquest.io/profile/max.secunda\")\n",
    "wait = WebDriverWait(driver, 20)\n",
    "\n",
    "element=driver.find_element_by_tag_name('body')\n",
    "element.send_keys(Keys.CONTROL,'a')\n",
    "element.send_keys(Keys.CONTROL,'c')\n",
    "driver.quit()\n",
    "alltext=pyperclip.paste()\n",
    "paragraphs=[x for x in alltext.split('\\n') if len(x)>100]\n",
    "max_score = alltext.split('Data Analyst in Python ')[1].split('%')[0]\n",
    "\n",
    "if daniel_score == max_score:\n",
    "    print('Daniel and Max are tied')\n",
    "elif daniel_score > max_score:\n",
    "        print('Daniel is ahead of Max')\n",
    "else:\n",
    "        print('Max is ahead of Daniel')"
   ]
  }
 ],
 "metadata": {
  "kernelspec": {
   "display_name": "Python 3",
   "language": "python",
   "name": "python3"
  },
  "language_info": {
   "codemirror_mode": {
    "name": "ipython",
    "version": 3
   },
   "file_extension": ".py",
   "mimetype": "text/x-python",
   "name": "python",
   "nbconvert_exporter": "python",
   "pygments_lexer": "ipython3",
   "version": "3.8.3"
  }
 },
 "nbformat": 4,
 "nbformat_minor": 4
}
